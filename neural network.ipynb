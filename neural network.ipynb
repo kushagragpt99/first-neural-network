{
 "cells": [
  {
   "cell_type": "code",
   "execution_count": 94,
   "metadata": {
    "collapsed": true
   },
   "outputs": [],
   "source": [
    "import numpy as np"
   ]
  },
  {
   "cell_type": "code",
   "execution_count": 127,
   "metadata": {},
   "outputs": [],
   "source": [
    "import scipy\n",
    "import matplotlib\n",
    "import pandas\n",
    "import sklearn"
   ]
  },
  {
   "cell_type": "code",
   "execution_count": 96,
   "metadata": {
    "collapsed": true
   },
   "outputs": [],
   "source": [
    "url = \"https://archive.ics.uci.edu/ml/machine-learning-databases/iris/iris.data\"\n",
    "names = ['sepal length','sepal width','petal length','petal width','class']\n",
    "dataset=pandas.read_csv(url,names=names)\n"
   ]
  },
  {
   "cell_type": "code",
   "execution_count": 97,
   "metadata": {},
   "outputs": [
    {
     "data": {
      "text/plain": [
       "class\n",
       "Iris-setosa        50\n",
       "Iris-versicolor    50\n",
       "Iris-virginica     50\n",
       "dtype: int64"
      ]
     },
     "execution_count": 97,
     "metadata": {},
     "output_type": "execute_result"
    }
   ],
   "source": [
    "dataset.groupby('class').size()"
   ]
  },
  {
   "cell_type": "code",
   "execution_count": 98,
   "metadata": {
    "collapsed": true
   },
   "outputs": [],
   "source": [
    "array=dataset.values"
   ]
  },
  {
   "cell_type": "code",
   "execution_count": 99,
   "metadata": {
    "collapsed": true
   },
   "outputs": [],
   "source": [
    "X=array[0:100,0:4]\n",
    "Y=array[0:100,4]"
   ]
  },
  {
   "cell_type": "code",
   "execution_count": 100,
   "metadata": {
    "collapsed": true
   },
   "outputs": [],
   "source": [
    "\n",
    "for i in range(100):\n",
    "    if (Y[i]=='Iris-setosa'):\n",
    "        Y[i]=1\n",
    "    if(Y[i]=='Iris-versicolor'):\n",
    "        Y[i]=0\n"
   ]
  },
  {
   "cell_type": "code",
   "execution_count": 101,
   "metadata": {},
   "outputs": [
    {
     "name": "stdout",
     "output_type": "stream",
     "text": [
      "[1 1 1 1 1 1 1 1 1 1 1 1 1 1 1 1 1 1 1 1 1 1 1 1 1 1 1 1 1 1 1 1 1 1 1 1 1\n",
      " 1 1 1 1 1 1 1 1 1 1 1 1 1 0 0 0 0 0 0 0 0 0 0 0 0 0 0 0 0 0 0 0 0 0 0 0 0\n",
      " 0 0 0 0 0 0 0 0 0 0 0 0 0 0 0 0 0 0 0 0 0 0 0 0 0 0]\n"
     ]
    }
   ],
   "source": [
    "print(Y)"
   ]
  },
  {
   "cell_type": "code",
   "execution_count": 138,
   "metadata": {
    "collapsed": true
   },
   "outputs": [],
   "source": [
    "X_train=X[0:80]\n",
    "Y_train=(Y[0:80]).reshape(80,1)\n",
    "X_test=X[80:100]\n",
    "Y_test=(Y[80:100]).reshape(20,1)\n",
    "m=80"
   ]
  },
  {
   "cell_type": "code",
   "execution_count": 103,
   "metadata": {},
   "outputs": [
    {
     "name": "stdout",
     "output_type": "stream",
     "text": [
      "(80, 4)\n",
      "(20, 4)\n"
     ]
    },
    {
     "data": {
      "text/plain": [
       "(80, 1)"
      ]
     },
     "execution_count": 103,
     "metadata": {},
     "output_type": "execute_result"
    }
   ],
   "source": [
    "print(X_train.shape)\n",
    "print(X_test.shape)\n",
    "Y_train.shape"
   ]
  },
  {
   "cell_type": "code",
   "execution_count": 131,
   "metadata": {
    "collapsed": true
   },
   "outputs": [],
   "source": [
    "def sigmoid(z):\n",
    "    z=np.float32(z)\n",
    "    a=1+np.exp(-z)\n",
    "    return(1/a)"
   ]
  },
  {
   "cell_type": "code",
   "execution_count": 105,
   "metadata": {
    "collapsed": true
   },
   "outputs": [],
   "source": [
    "m_train=X_train.shape[0]\n",
    "n[0]=4\n",
    "n[1]=5\n",
    "n[2]=3\n",
    "n[3]=1"
   ]
  },
  {
   "cell_type": "code",
   "execution_count": 106,
   "metadata": {
    "collapsed": true
   },
   "outputs": [],
   "source": [
    "m_test=X_test.shape[0]\n"
   ]
  },
  {
   "cell_type": "code",
   "execution_count": 107,
   "metadata": {},
   "outputs": [],
   "source": [
    "def init(n):\n",
    "    w1=np.random.randn(n[1],n[0])*0.01 \n",
    "    w2=np.random.randn(n[2],n[1])*0.01 \n",
    "    w3=np.random.randn(n[3],n[2])*0.01 \n",
    "    b1=(np.zeros(n[1])).reshape(1,n[1]) \n",
    "    b2=(np.zeros(n[2])).reshape(1,n[2]) \n",
    "    b3=(np.zeros(n[3])).reshape(1,n[3])\n",
    "    a0=(X_train).T\n",
    "    param={'w3':w3, 'w2':w2, 'w1':w1, 'b3':b3, 'b2':b2, 'b1':b1, 'a0':a0}\n",
    "    return param"
   ]
  },
  {
   "cell_type": "code",
   "execution_count": 119,
   "metadata": {
    "collapsed": true
   },
   "outputs": [],
   "source": [
    "def forward_prop(param):\n",
    "    w1=param['w1']\n",
    "    w2=param['w2']\n",
    "    w3=param['w3']\n",
    "    b1=param['b1']\n",
    "    b2=param['b2']\n",
    "    b3=param['b3']\n",
    "    a0=param['a0']\n",
    "    z1=np.dot(w1,a0) + b1.T\n",
    "    a1=sigmoid(z1)\n",
    "    z2=np.dot(w2,a1) + b2.T\n",
    "    a2=sigmoid(z2)\n",
    "    z3=np.dot(w3,a2) + b3.T\n",
    "    a3=sigmoid(z3)\n",
    "    cache={'z1':z1,'z2':z2, 'z3':z3, 'a1':a1, 'a2':a2, 'a3':a3}\n",
    "    return cache"
   ]
  },
  {
   "cell_type": "code",
   "execution_count": 109,
   "metadata": {
    "collapsed": true
   },
   "outputs": [],
   "source": [
    "def cost(Y,a3):\n",
    "    j=np.multiply(Y, np.log(a3)) + np.multiply((1-Y),np.log(1-a3))\n",
    "    j=((-1)*np.sum(j))/m\n",
    "    return j"
   ]
  },
  {
   "cell_type": "code",
   "execution_count": 110,
   "metadata": {},
   "outputs": [
    {
     "data": {
      "text/plain": [
       "(1, 3)"
      ]
     },
     "execution_count": 110,
     "metadata": {},
     "output_type": "execute_result"
    }
   ],
   "source": [
    "b2.shape"
   ]
  },
  {
   "cell_type": "code",
   "execution_count": 141,
   "metadata": {},
   "outputs": [],
   "source": [
    "def back_prop(cache, param,Y):\n",
    "    a3=cache['a3']\n",
    "    a2=cache['a2']\n",
    "    z2=cache['z2']\n",
    "    z1=cache['z1']\n",
    "    a0=param['a0']\n",
    "    a1=cache['a1']\n",
    "    z3=cache['z3']\n",
    "    da3=(a3-Y.T)/(np.multiply(a3,1-a3))\n",
    "    dz3=a3-Y.T\n",
    "    dw3=(np.dot(dz3,a2.T))/m\n",
    "    db3=(np.sum(dz3))/m\n",
    "    z2=np.float32(z2)\n",
    "    z1=np.float32(z1)\n",
    "    sigmaa = (np.exp(-z2))/(np.power(1+np.exp(-z2),2))\n",
    "    dz2=np.multiply(np.dot(w3.T,dz3),sigmaa)\n",
    "    dw2=(np.dot(dz2,a1.T))/m\n",
    "    db2=((np.sum(dz2, axis=1))/m).T\n",
    "    sigmaa = (np.exp(-z1))/(np.power(1+np.exp(-z1),2))\n",
    "    dz1=np.multiply(np.dot(w2.T,dz2),sigmaa)\n",
    "    dw1=(np.dot(dz1,a0.T))/m\n",
    "    db1=((np.sum(dz1, axis=1))/m).T\n",
    "    gradient={'dw3':dw3, 'dw2':dw2, 'dw1':dw1, 'db3':db3, 'db2':db2, 'db1':db1}\n",
    "    return gradient"
   ]
  },
  {
   "cell_type": "code",
   "execution_count": 144,
   "metadata": {
    "collapsed": true
   },
   "outputs": [],
   "source": [
    "def update(param, gradient, r):\n",
    "    param['w3']=w3-r*gradient['dw3']\n",
    "    param['w2']=w2-r*gradient['dw2']\n",
    "    param['w1']=w1-r*gradient['dw1']\n",
    "    param['b3']=b3-r*gradient['db3']\n",
    "    param['b2']=b2-r*gradient['db2']\n",
    "    param['b1']=b1-r*gradient['db1']\n",
    "    return param"
   ]
  },
  {
   "cell_type": "code",
   "execution_count": 147,
   "metadata": {},
   "outputs": [
    {
     "name": "stdout",
     "output_type": "stream",
     "text": [
      "cost after0iteration is 0.6917598128318787\n",
      "cost after100iteration is 0.6919959679245948\n",
      "cost after200iteration is 0.6919959679245948\n",
      "cost after300iteration is 0.6919959679245948\n",
      "cost after400iteration is 0.6919959679245948\n",
      "cost after500iteration is 0.6919959679245948\n",
      "cost after600iteration is 0.6919959679245948\n",
      "cost after700iteration is 0.6919959679245948\n",
      "cost after800iteration is 0.6919959679245948\n",
      "cost after900iteration is 0.6919959679245948\n",
      "cost after1000iteration is 0.6919959679245948\n",
      "cost after1100iteration is 0.6919959679245948\n",
      "cost after1200iteration is 0.6919959679245948\n",
      "cost after1300iteration is 0.6919959679245948\n",
      "cost after1400iteration is 0.6919959679245948\n",
      "cost after1500iteration is 0.6919959679245948\n",
      "cost after1600iteration is 0.6919959679245948\n",
      "cost after1700iteration is 0.6919959679245948\n",
      "cost after1800iteration is 0.6919959679245948\n",
      "cost after1900iteration is 0.6919959679245948\n",
      "cost after2000iteration is 0.6919959679245948\n",
      "cost after2100iteration is 0.6919959679245948\n",
      "cost after2200iteration is 0.6919959679245948\n",
      "cost after2300iteration is 0.6919959679245948\n",
      "cost after2400iteration is 0.6919959679245948\n",
      "cost after2500iteration is 0.6919959679245948\n",
      "cost after2600iteration is 0.6919959679245948\n",
      "cost after2700iteration is 0.6919959679245948\n",
      "cost after2800iteration is 0.6919959679245948\n",
      "cost after2900iteration is 0.6919959679245948\n",
      "cost after3000iteration is 0.6919959679245948\n",
      "cost after3100iteration is 0.6919959679245948\n",
      "cost after3200iteration is 0.6919959679245948\n",
      "cost after3300iteration is 0.6919959679245948\n",
      "cost after3400iteration is 0.6919959679245948\n",
      "cost after3500iteration is 0.6919959679245948\n",
      "cost after3600iteration is 0.6919959679245948\n",
      "cost after3700iteration is 0.6919959679245948\n",
      "cost after3800iteration is 0.6919959679245948\n",
      "cost after3900iteration is 0.6919959679245948\n",
      "cost after4000iteration is 0.6919959679245948\n",
      "cost after4100iteration is 0.6919959679245948\n",
      "cost after4200iteration is 0.6919959679245948\n",
      "cost after4300iteration is 0.6919959679245948\n",
      "cost after4400iteration is 0.6919959679245948\n",
      "cost after4500iteration is 0.6919959679245948\n",
      "cost after4600iteration is 0.6919959679245948\n",
      "cost after4700iteration is 0.6919959679245948\n",
      "cost after4800iteration is 0.6919959679245948\n",
      "cost after4900iteration is 0.6919959679245948\n",
      "cost after5000iteration is 0.6919959679245948\n",
      "cost after5100iteration is 0.6919959679245948\n",
      "cost after5200iteration is 0.6919959679245948\n",
      "cost after5300iteration is 0.6919959679245948\n",
      "cost after5400iteration is 0.6919959679245948\n",
      "cost after5500iteration is 0.6919959679245948\n",
      "cost after5600iteration is 0.6919959679245948\n",
      "cost after5700iteration is 0.6919959679245948\n",
      "cost after5800iteration is 0.6919959679245948\n",
      "cost after5900iteration is 0.6919959679245948\n",
      "cost after6000iteration is 0.6919959679245948\n",
      "cost after6100iteration is 0.6919959679245948\n",
      "cost after6200iteration is 0.6919959679245948\n",
      "cost after6300iteration is 0.6919959679245948\n",
      "cost after6400iteration is 0.6919959679245948\n",
      "cost after6500iteration is 0.6919959679245948\n",
      "cost after6600iteration is 0.6919959679245948\n",
      "cost after6700iteration is 0.6919959679245948\n",
      "cost after6800iteration is 0.6919959679245948\n",
      "cost after6900iteration is 0.6919959679245948\n",
      "cost after7000iteration is 0.6919959679245948\n",
      "cost after7100iteration is 0.6919959679245948\n",
      "cost after7200iteration is 0.6919959679245948\n",
      "cost after7300iteration is 0.6919959679245948\n",
      "cost after7400iteration is 0.6919959679245948\n",
      "cost after7500iteration is 0.6919959679245948\n",
      "cost after7600iteration is 0.6919959679245948\n",
      "cost after7700iteration is 0.6919959679245948\n",
      "cost after7800iteration is 0.6919959679245948\n",
      "cost after7900iteration is 0.6919959679245948\n",
      "cost after8000iteration is 0.6919959679245948\n",
      "cost after8100iteration is 0.6919959679245948\n",
      "cost after8200iteration is 0.6919959679245948\n",
      "cost after8300iteration is 0.6919959679245948\n",
      "cost after8400iteration is 0.6919959679245948\n",
      "cost after8500iteration is 0.6919959679245948\n",
      "cost after8600iteration is 0.6919959679245948\n",
      "cost after8700iteration is 0.6919959679245948\n",
      "cost after8800iteration is 0.6919959679245948\n",
      "cost after8900iteration is 0.6919959679245948\n",
      "cost after9000iteration is 0.6919959679245948\n",
      "cost after9100iteration is 0.6919959679245948\n",
      "cost after9200iteration is 0.6919959679245948\n",
      "cost after9300iteration is 0.6919959679245948\n",
      "cost after9400iteration is 0.6919959679245948\n",
      "cost after9500iteration is 0.6919959679245948\n",
      "cost after9600iteration is 0.6919959679245948\n",
      "cost after9700iteration is 0.6919959679245948\n",
      "cost after9800iteration is 0.6919959679245948\n",
      "cost after9900iteration is 0.6919959679245948\n"
     ]
    }
   ],
   "source": [
    "epoch=10000\n",
    "r=0.01\n",
    "for i in range(epoch):\n",
    "    cache=forward_prop(param)\n",
    "    gradient=back_prop(cache,param,Y_train)\n",
    "    param=update(param,gradient,r)\n",
    "    if (i%100==0):\n",
    "        C=cost((Y_train).T,cache['a3'])\n",
    "        print(\"cost after\" +str(i)+ \"iteration is \"+ str(C))"
   ]
  },
  {
   "cell_type": "code",
   "execution_count": null,
   "metadata": {
    "collapsed": true
   },
   "outputs": [],
   "source": []
  }
 ],
 "metadata": {
  "kernelspec": {
   "display_name": "Python 3",
   "language": "python",
   "name": "python3"
  },
  "language_info": {
   "codemirror_mode": {
    "name": "ipython",
    "version": 3
   },
   "file_extension": ".py",
   "mimetype": "text/x-python",
   "name": "python",
   "nbconvert_exporter": "python",
   "pygments_lexer": "ipython3",
   "version": "3.6.3"
  }
 },
 "nbformat": 4,
 "nbformat_minor": 2
}
